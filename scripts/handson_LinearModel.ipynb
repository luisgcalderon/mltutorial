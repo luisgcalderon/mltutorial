{
 "metadata": {
  "language_info": {
   "codemirror_mode": {
    "name": "ipython",
    "version": 3
   },
   "file_extension": ".py",
   "mimetype": "text/x-python",
   "name": "python",
   "nbconvert_exporter": "python",
   "pygments_lexer": "ipython3",
   "version": "3.9.0-final"
  },
  "orig_nbformat": 2,
  "kernelspec": {
   "name": "python3",
   "display_name": "Python 3.9.0 64-bit ('venv')",
   "metadata": {
    "interpreter": {
     "hash": "c993e5f2381b8f380fe5e389eccc6a07c31c91ff09e5d3b27f671878fe37ef90"
    }
   }
  }
 },
 "nbformat": 4,
 "nbformat_minor": 2,
 "cells": [
  {
   "source": [
    "Importing modules and packages"
   ],
   "cell_type": "markdown",
   "metadata": {}
  },
  {
   "cell_type": "code",
   "execution_count": 4,
   "metadata": {},
   "outputs": [],
   "source": [
    "import matplotlib.pyplot as plt\n",
    "import numpy as np\n",
    "import pandas as pd\n",
    "import sklearn.linear_model\n",
    "import os\n"
   ]
  },
  {
   "cell_type": "code",
   "execution_count": 38,
   "metadata": {},
   "outputs": [
    {
     "output_type": "display_data",
     "data": {
      "text/plain": "['LOCATION',\n 'Country',\n 'INDICATOR',\n 'Indicator',\n 'MEASURE',\n 'Measure',\n 'INEQUALITY',\n 'Inequality',\n 'Unit Code',\n 'Unit',\n 'PowerCode Code',\n 'PowerCode',\n 'Reference Period Code',\n 'Reference Period',\n 'Value',\n 'Flag Codes',\n 'Flags']"
     },
     "metadata": {}
    }
   ],
   "source": [
    "\n",
    "oecd_bli = pd.read_csv(\"../data/oecd_bli_2015.csv\")\n",
    "#gdp_per_capita = pd.read_csv(\"..data/gdp_per_capita.csv\", thousands=',',\n",
    " #                            delimiter='\\t', encoding='latin1', na_values=\"n/a\")\n",
    "# Prepare the data\n",
    "country_stats = prepare_country_stats(oecd_bli, gdp_per_capita)\n",
    "X = np.c_"
   ]
  }
 ]
}